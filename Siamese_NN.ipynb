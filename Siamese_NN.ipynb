{
  "nbformat": 4,
  "nbformat_minor": 0,
  "metadata": {
    "colab": {
      "name": "Siamese NN.ipynb",
      "provenance": [],
      "collapsed_sections": [],
      "authorship_tag": "ABX9TyNYv0kYgiB8xFgDx8VSWT70",
      "include_colab_link": true
    },
    "kernelspec": {
      "name": "python3",
      "display_name": "Python 3"
    },
    "accelerator": "GPU"
  },
  "cells": [
    {
      "cell_type": "markdown",
      "metadata": {
        "id": "view-in-github",
        "colab_type": "text"
      },
      "source": [
        "<a href=\"https://colab.research.google.com/github/RahulXavier/HEXA/blob/master/Siamese_NN.ipynb\" target=\"_parent\"><img src=\"https://colab.research.google.com/assets/colab-badge.svg\" alt=\"Open In Colab\"/></a>"
      ]
    },
    {
      "cell_type": "code",
      "metadata": {
        "id": "Kb9ePrf4qMFQ",
        "colab_type": "code",
        "colab": {}
      },
      "source": [
        "!pip install wandb\n",
        "import random\n",
        "import numpy as np\n",
        "import keras\n",
        "import wandb\n",
        "from wandb.keras import WandbCallback\n",
        "from keras.models import Sequential, Model\n",
        "from keras.layers import Flatten, Dense, Concatenate, Dot, Lambda, Input\n",
        "from keras.optimizers import Adam\n",
        "import matplotlib.pyplot as plt\n",
        "from google.colab import drive\n",
        "import os\n",
        "import cv2\n",
        "from google.colab.patches import cv2_imshow   #cv2_imshow(x_train[1]) #To display images\n",
        "from random import randint"
      ],
      "execution_count": null,
      "outputs": []
    },
    {
      "cell_type": "code",
      "metadata": {
        "id": "F0zAms6iqUv9",
        "colab_type": "code",
        "colab": {}
      },
      "source": [
        "drive.mount('/content/drive')"
      ],
      "execution_count": null,
      "outputs": []
    },
    {
      "cell_type": "code",
      "metadata": {
        "id": "ZFVVX3GA1s49",
        "colab_type": "code",
        "colab": {}
      },
      "source": [
        "'''\n",
        "    MAP\n",
        "\n",
        "    1 - Reenu\n",
        "    2 - Renie\n",
        "    3 - Sandra F\n",
        "    4 - Shoalia\n",
        "    5 - Shwetha Sandeep\n",
        "    6 - Sweta Satish\n",
        "    7 - Tabita\n",
        "    8 - Vivek SP\n",
        "\n",
        "'''"
      ],
      "execution_count": null,
      "outputs": []
    },
    {
      "cell_type": "code",
      "metadata": {
        "id": "duhN4Ip-xrKl",
        "colab_type": "code",
        "colab": {
          "base_uri": "https://localhost:8080/",
          "height": 168
        },
        "outputId": "b249c31a-e2ce-41ea-eb08-3ed1d13f0198"
      },
      "source": [
        "x_train = []\n",
        "y_train = []\n",
        "x_test = []\n",
        "y_test = []\n",
        "size = 64\n",
        "\n",
        "directory = r'/content/drive/My Drive/Colab Notebooks/Project-Sign samples/Signature Datasets/Training/Reenu'\n",
        "for filename in os.listdir(directory):\n",
        "    file = '/content/drive/My Drive/Colab Notebooks/Project-Sign samples/Signature Datasets/Training/Reenu/' + filename\n",
        "    im = cv2.imread(file,0)  # 0 for greyscale\n",
        "    im = cv2.resize(im, dsize=(size, size), interpolation=cv2.INTER_CUBIC)\n",
        "    x_train.append(im)\n",
        "    y_train.append(1)\n",
        "    value = randint(1,10)\n",
        "    if value<4 :\n",
        "        x_test.append(im)\n",
        "        y_test.append(1)\n",
        "print('1: Processed ;',end = ' ')\n",
        "print(len(os.listdir(directory)),' images converted')\n",
        "\n",
        "directory = r'/content/drive/My Drive/Colab Notebooks/Project-Sign samples/Signature Datasets/Training/Renie'\n",
        "for filename in os.listdir(directory):\n",
        "    file = '/content/drive/My Drive/Colab Notebooks/Project-Sign samples/Signature Datasets/Training/Renie/' + filename\n",
        "    im = cv2.imread(file,0)  # 0 for greyscale\n",
        "    im = cv2.resize(im, dsize=(size, size), interpolation=cv2.INTER_CUBIC)\n",
        "    x_train.append(im)\n",
        "    y_train.append(2)\n",
        "    value = randint(1,10)\n",
        "    if value<4 :\n",
        "        x_test.append(im)\n",
        "        y_test.append(2)\n",
        "print('2: Processed ;',end = ' ')\n",
        "print(len(os.listdir(directory)),' images converted')\n",
        "\n",
        "directory = r'/content/drive/My Drive/Colab Notebooks/Project-Sign samples/Signature Datasets/Training/Sandra Fulgence'\n",
        "for filename in os.listdir(directory):\n",
        "    file = '/content/drive/My Drive/Colab Notebooks/Project-Sign samples/Signature Datasets/Training/Sandra Fulgence/' + filename\n",
        "    im = cv2.imread(file,0)  # 0 for greyscale\n",
        "    im = cv2.resize(im, dsize=(size, size), interpolation=cv2.INTER_CUBIC)\n",
        "    x_train.append(im)\n",
        "    y_train.append(3)\n",
        "    value = randint(1,10)\n",
        "    if value<4 :\n",
        "        x_test.append(im)\n",
        "        y_test.append(3)\n",
        "print('3: Processed ;',end=' ')\n",
        "print(len(os.listdir(directory)),' images converted')\n",
        "\n",
        "directory = r'/content/drive/My Drive/Colab Notebooks/Project-Sign samples/Signature Datasets/Training/Shoalia'\n",
        "for filename in os.listdir(directory):\n",
        "    file = '/content/drive/My Drive/Colab Notebooks/Project-Sign samples/Signature Datasets/Training/Shoalia/' + filename\n",
        "    im = cv2.imread(file,0)  # 0 for greyscale\n",
        "    im = cv2.resize(im, dsize=(size, size), interpolation=cv2.INTER_CUBIC)\n",
        "    x_train.append(im)\n",
        "    y_train.append(4)\n",
        "    value = randint(1,10)\n",
        "    if value<4 :\n",
        "        x_test.append(im)\n",
        "        y_test.append(4)\n",
        "print('4: Processed ;',end =' ')\n",
        "print(len(os.listdir(directory)),' images converted')\n",
        "\n",
        "directory = r'/content/drive/My Drive/Colab Notebooks/Project-Sign samples/Signature Datasets/Training/Shwetha Sandeep'\n",
        "for filename in os.listdir(directory):\n",
        "    file = '/content/drive/My Drive/Colab Notebooks/Project-Sign samples/Signature Datasets/Training/Shwetha Sandeep/' + filename\n",
        "    im = cv2.imread(file,0)  # 0 for greyscale\n",
        "    im = cv2.resize(im, dsize=(size, size), interpolation=cv2.INTER_CUBIC)\n",
        "    x_train.append(im)\n",
        "    y_train.append(5)\n",
        "    value = randint(1,10)\n",
        "    if value<4 :\n",
        "        x_test.append(im)\n",
        "        y_test.append(5)\n",
        "print('5: Processed ;', end = ' ')\n",
        "print(len(os.listdir(directory)),' images converted')\n",
        "\n",
        "directory = r'/content/drive/My Drive/Colab Notebooks/Project-Sign samples/Signature Datasets/Training/Sweta Satish'\n",
        "for filename in os.listdir(directory):\n",
        "    file = '/content/drive/My Drive/Colab Notebooks/Project-Sign samples/Signature Datasets/Training/Sweta Satish/' + filename\n",
        "    im = cv2.imread(file,0)  # 0 for greyscale\n",
        "    im = cv2.resize(im, dsize=(size, size), interpolation=cv2.INTER_CUBIC)\n",
        "    x_train.append(im)\n",
        "    y_train.append(6)\n",
        "    value = randint(1,10)\n",
        "    if value<4 :\n",
        "        x_test.append(im)\n",
        "        y_test.append(6)\n",
        "print('6: Processed ;',end = ' ')\n",
        "print(len(os.listdir(directory)),' images converted')\n",
        "\n",
        "directory = r'/content/drive/My Drive/Colab Notebooks/Project-Sign samples/Signature Datasets/Training/Tabitha'\n",
        "for filename in os.listdir(directory):\n",
        "    file = '/content/drive/My Drive/Colab Notebooks/Project-Sign samples/Signature Datasets/Training/Tabitha/' + filename\n",
        "    im = cv2.imread(file,0)  # 0 for greyscale\n",
        "    im = cv2.resize(im, dsize=(size, size), interpolation=cv2.INTER_CUBIC)\n",
        "    x_train.append(im)\n",
        "    y_train.append(7)\n",
        "    value = randint(1,10)\n",
        "    if value<4 :\n",
        "        x_test.append(im)\n",
        "        y_test.append(7)\n",
        "print('7: Processed ;',end = ' ')\n",
        "print(len(os.listdir(directory)),' images converted')\n",
        "\n",
        "directory = r'/content/drive/My Drive/Colab Notebooks/Project-Sign samples/Signature Datasets/Training/Vivek SP'\n",
        "for filename in os.listdir(directory):\n",
        "    file = '/content/drive/My Drive/Colab Notebooks/Project-Sign samples/Signature Datasets/Training/Vivek SP/' + filename\n",
        "    im = cv2.imread(file,0)  # 0 for greyscale\n",
        "    im = cv2.resize(im, dsize=(size, size), interpolation=cv2.INTER_CUBIC)\n",
        "    x_train.append(im)\n",
        "    y_train.append(8)\n",
        "    value = randint(1,10)\n",
        "    if value<4 :\n",
        "        x_test.append(im)\n",
        "        y_test.append(8)\n",
        "print('8: Processed ;',end = ' ')\n",
        "print(len(os.listdir(directory)),' images converted')\n",
        "\n",
        "print('Length of dataset: ',len(x_train))\n",
        "\n",
        "from numpy import save\n",
        "save('/content/drive/My Drive/Colab Notebooks/SNN data/x_train.npy', x_train)\n",
        "save('/content/drive/My Drive/Colab Notebooks/SNN data/y_train.npy', y_train)\n",
        "save('/content/drive/My Drive/Colab Notebooks/SNN data/x_test.npy', x_test)\n",
        "save('/content/drive/My Drive/Colab Notebooks/SNN data/y_test.npy', y_test)"
      ],
      "execution_count": null,
      "outputs": [
        {
          "output_type": "stream",
          "text": [
            "1: Processed ; 87  images converted\n",
            "2: Processed ; 87  images converted\n",
            "3: Processed ; 87  images converted\n",
            "4: Processed ; 87  images converted\n",
            "5: Processed ; 87  images converted\n",
            "6: Processed ; 87  images converted\n",
            "7: Processed ; 87  images converted\n",
            "8: Processed ; 87  images converted\n",
            "Length of dataset:  696\n"
          ],
          "name": "stdout"
        }
      ]
    },
    {
      "cell_type": "code",
      "metadata": {
        "id": "wl5IykUf454O",
        "colab_type": "code",
        "colab": {}
      },
      "source": [
        "from numpy import load\n",
        "x_train = load('/content/drive/My Drive/Colab Notebooks/SNN data/x_train.npy')\n",
        "y_train = load('/content/drive/My Drive/Colab Notebooks/SNN data/y_train.npy')\n",
        "x_test = load('/content/drive/My Drive/Colab Notebooks/SNN data/x_test.npy')\n",
        "y_test = load('/content/drive/My Drive/Colab Notebooks/SNN data/y_test.npy')"
      ],
      "execution_count": null,
      "outputs": []
    },
    {
      "cell_type": "code",
      "metadata": {
        "id": "f7IELrWm7rM0",
        "colab_type": "code",
        "colab": {}
      },
      "source": [
        "#Visulaize dataset\n",
        "cv2_imshow(x_train[300])\n",
        "print(x_train[300])"
      ],
      "execution_count": null,
      "outputs": []
    },
    {
      "cell_type": "code",
      "metadata": {
        "id": "x_H6T5ic7Wi1",
        "colab_type": "code",
        "colab": {}
      },
      "source": [
        "#Normalising the pixels\n",
        "x_train = np.true_divide(x_train,255)\n",
        "x_test = np.true_divide(x_test,255)"
      ],
      "execution_count": null,
      "outputs": []
    },
    {
      "cell_type": "code",
      "metadata": {
        "id": "hoKINkv-GyMu",
        "colab_type": "code",
        "colab": {
          "base_uri": "https://localhost:8080/",
          "height": 34
        },
        "outputId": "b2bb67da-0509-40cb-dfd3-e0ecec30911a"
      },
      "source": [
        "'''\n",
        "    MAP\n",
        "\n",
        "    1 - Reenu - [0:86]\n",
        "    2 - Renie - [87:173]\n",
        "    3 - Sandra F - [174:260]\n",
        "    4 - Shoalia - [261:347]\n",
        "    5 - Shwetha Sandeep - [348:434]\n",
        "    6 - Sweta Satish - [435:521]\n",
        "    7 - Tabita - [522:608]\n",
        "    8 - Vivek SP - [609:695]\n",
        "\n",
        "'''\n",
        "#print(y_train[695])\n",
        "print('Resolution is: ',len(x_train[1]))"
      ],
      "execution_count": null,
      "outputs": [
        {
          "output_type": "stream",
          "text": [
            "Resolution is:  64\n"
          ],
          "name": "stdout"
        }
      ]
    },
    {
      "cell_type": "code",
      "metadata": {
        "id": "fazZtxv4Ko8I",
        "colab_type": "code",
        "colab": {
          "base_uri": "https://localhost:8080/",
          "height": 151
        },
        "outputId": "f9d1e555-d3ca-450e-d0af-d41b434057dd"
      },
      "source": [
        "pairs_train = []\n",
        "labels_train = []\n",
        "\n",
        "# Adding 2 matching & 7 unmatching image-pairs for each image\n",
        "# So (2+7)*87*8 = 6264 pairs in dataset\n",
        "# Label : 1-Match ; 0-Unmatch\n",
        "\n",
        "for i in range(0,87):            #1 - Reenu - [0:86]\n",
        "    source_img = x_train[i]\n",
        "    matching_img_1 = x_train[randint(0,86)]\n",
        "    matching_img_2 = x_train[randint(0,86)]\n",
        "    unmatch_img_2 = x_train[randint(87,173)]\n",
        "    unmatch_img_3 = x_train[randint(174,260)]\n",
        "    unmatch_img_4 = x_train[randint(261,347)]\n",
        "    unmatch_img_5 = x_train[randint(348,434)]\n",
        "    unmatch_img_6 = x_train[randint(435,521)]\n",
        "    unmatch_img_7 = x_train[randint(522,608)]\n",
        "    unmatch_img_8 = x_train[randint(609,695)]\n",
        "    pairs_train.extend([[source_img,matching_img_1],\n",
        "                  [source_img,matching_img_2],\n",
        "                  [source_img,unmatch_img_2],\n",
        "                  [source_img,unmatch_img_3],\n",
        "                  [source_img,unmatch_img_4],\n",
        "                  [source_img,unmatch_img_5],\n",
        "                  [source_img,unmatch_img_6],\n",
        "                  [source_img,unmatch_img_7],\n",
        "                  [source_img,unmatch_img_8]])\n",
        "    labels_train.extend([1,1,0,0,0,0,0,0,0])\n",
        "print('Progress: ',len(pairs_train),'/6264')\n",
        "\n",
        "for i in range(87,174):         #2 - Renie - [87:173]\n",
        "    source_img = x_train[i]\n",
        "    matching_img_1 = x_train[randint(87,173)]\n",
        "    matching_img_2 = x_train[randint(87,173)]\n",
        "    unmatch_img_1 = x_train[randint(0,86)]\n",
        "    unmatch_img_3 = x_train[randint(174,260)]\n",
        "    unmatch_img_4 = x_train[randint(261,347)]\n",
        "    unmatch_img_5 = x_train[randint(348,434)]\n",
        "    unmatch_img_6 = x_train[randint(435,521)]\n",
        "    unmatch_img_7 = x_train[randint(522,608)]\n",
        "    unmatch_img_8 = x_train[randint(609,695)]\n",
        "    pairs_train.extend([[source_img,matching_img_1],\n",
        "                  [source_img,matching_img_2],\n",
        "                  [source_img,unmatch_img_1],\n",
        "                  [source_img,unmatch_img_3],\n",
        "                  [source_img,unmatch_img_4],\n",
        "                  [source_img,unmatch_img_5],\n",
        "                  [source_img,unmatch_img_6],\n",
        "                  [source_img,unmatch_img_7],\n",
        "                  [source_img,unmatch_img_8]])\n",
        "    labels_train.extend([1,1,0,0,0,0,0,0,0])\n",
        "print('Progress: ',len(pairs_train),'/6264')\n",
        "\n",
        "for i in range(174,261):       #3 - Sandra F - [174:260]\n",
        "    source_img = x_train[i]\n",
        "    matching_img_1 = x_train[randint(174,260)]\n",
        "    matching_img_2 = x_train[randint(174,260)]\n",
        "    unmatch_img_1 = x_train[randint(0,86)]\n",
        "    unmatch_img_2 = x_train[randint(87,173)]\n",
        "    unmatch_img_4 = x_train[randint(261,347)]\n",
        "    unmatch_img_5 = x_train[randint(348,434)]\n",
        "    unmatch_img_6 = x_train[randint(435,521)]\n",
        "    unmatch_img_7 = x_train[randint(522,608)]\n",
        "    unmatch_img_8 = x_train[randint(609,695)]\n",
        "    pairs_train.extend([[source_img,matching_img_1],\n",
        "                  [source_img,matching_img_2],\n",
        "                  [source_img,unmatch_img_1],\n",
        "                  [source_img,unmatch_img_2],\n",
        "                  [source_img,unmatch_img_4],\n",
        "                  [source_img,unmatch_img_5],\n",
        "                  [source_img,unmatch_img_6],\n",
        "                  [source_img,unmatch_img_7],\n",
        "                  [source_img,unmatch_img_8]])\n",
        "    labels_train.extend([1,1,0,0,0,0,0,0,0])\n",
        "print('Progress: ',len(pairs_train),'/6264')\n",
        "\n",
        "for i in range(261,348):       #4 - Shoalia - [261:347]\n",
        "    source_img = x_train[i]\n",
        "    matching_img_1 = x_train[randint(261,347)]\n",
        "    matching_img_2 = x_train[randint(261,347)]\n",
        "    unmatch_img_1 = x_train[randint(0,86)]\n",
        "    unmatch_img_2 = x_train[randint(87,173)]\n",
        "    unmatch_img_3 = x_train[randint(174,260)]\n",
        "    unmatch_img_5 = x_train[randint(348,434)]\n",
        "    unmatch_img_6 = x_train[randint(435,521)]\n",
        "    unmatch_img_7 = x_train[randint(522,608)]\n",
        "    unmatch_img_8 = x_train[randint(609,695)]\n",
        "    pairs_train.extend([[source_img,matching_img_1],\n",
        "                  [source_img,matching_img_2],\n",
        "                  [source_img,unmatch_img_1],\n",
        "                  [source_img,unmatch_img_2],\n",
        "                  [source_img,unmatch_img_3],\n",
        "                  [source_img,unmatch_img_5],\n",
        "                  [source_img,unmatch_img_6],\n",
        "                  [source_img,unmatch_img_7],\n",
        "                  [source_img,unmatch_img_8]])\n",
        "    labels_train.extend([1,1,0,0,0,0,0,0,0])\n",
        "print('Progress: ',len(pairs_train),'/6264')\n",
        "\n",
        "for i in range(348,435):       #5 - Shwetha Sandeep - [348:434]\n",
        "    source_img = x_train[i]\n",
        "    matching_img_1 = x_train[randint(348,434)]\n",
        "    matching_img_2 = x_train[randint(348,434)]\n",
        "    unmatch_img_1 = x_train[randint(0,86)]\n",
        "    unmatch_img_2 = x_train[randint(87,173)]\n",
        "    unmatch_img_3 = x_train[randint(174,260)]\n",
        "    unmatch_img_4 = x_train[randint(261,347)]\n",
        "    unmatch_img_6 = x_train[randint(435,521)]\n",
        "    unmatch_img_7 = x_train[randint(522,608)]\n",
        "    unmatch_img_8 = x_train[randint(609,695)]\n",
        "    pairs_train.extend([[source_img,matching_img_1],\n",
        "                  [source_img,matching_img_2],\n",
        "                  [source_img,unmatch_img_1],\n",
        "                  [source_img,unmatch_img_2],\n",
        "                  [source_img,unmatch_img_3],\n",
        "                  [source_img,unmatch_img_4],\n",
        "                  [source_img,unmatch_img_6],\n",
        "                  [source_img,unmatch_img_7],\n",
        "                  [source_img,unmatch_img_8]])\n",
        "    labels_train.extend([1,1,0,0,0,0,0,0,0])\n",
        "print('Progress: ',len(pairs_train),'/6264')\n",
        "\n",
        "for i in range(435,522):       #6 - Sweta Satish - [435:521]\n",
        "    source_img = x_train[i]\n",
        "    matching_img_1 = x_train[randint(435,521)]\n",
        "    matching_img_2 = x_train[randint(435,521)]\n",
        "    unmatch_img_1 = x_train[randint(0,86)]\n",
        "    unmatch_img_2 = x_train[randint(87,173)]\n",
        "    unmatch_img_3 = x_train[randint(174,260)]\n",
        "    unmatch_img_4 = x_train[randint(261,347)]\n",
        "    unmatch_img_5 = x_train[randint(348,434)]\n",
        "    unmatch_img_7 = x_train[randint(522,608)]\n",
        "    unmatch_img_8 = x_train[randint(609,695)]\n",
        "    pairs_train.extend([[source_img,matching_img_1],\n",
        "                  [source_img,matching_img_2],\n",
        "                  [source_img,unmatch_img_1],\n",
        "                  [source_img,unmatch_img_2],\n",
        "                  [source_img,unmatch_img_3],\n",
        "                  [source_img,unmatch_img_4],\n",
        "                  [source_img,unmatch_img_5],\n",
        "                  [source_img,unmatch_img_7],\n",
        "                  [source_img,unmatch_img_8]])\n",
        "    labels_train.extend([1,1,0,0,0,0,0,0,0])\n",
        "print('Progress: ',len(pairs_train),'/6264')\n",
        "\n",
        "for i in range(522,609):       #7 - Tabita - [522:608]\n",
        "    source_img = x_train[i]\n",
        "    matching_img_1 = x_train[randint(522,608)]\n",
        "    matching_img_2 = x_train[randint(522,608)]\n",
        "    unmatch_img_1 = x_train[randint(0,86)]\n",
        "    unmatch_img_2 = x_train[randint(87,173)]\n",
        "    unmatch_img_3 = x_train[randint(174,260)]\n",
        "    unmatch_img_4 = x_train[randint(261,347)]\n",
        "    unmatch_img_5 = x_train[randint(348,434)]\n",
        "    unmatch_img_6 = x_train[randint(435,521)]\n",
        "    unmatch_img_8 = x_train[randint(609,695)]\n",
        "    pairs_train.extend([[source_img,matching_img_1],\n",
        "                  [source_img,matching_img_2],\n",
        "                  [source_img,unmatch_img_1],\n",
        "                  [source_img,unmatch_img_2],\n",
        "                  [source_img,unmatch_img_3],\n",
        "                  [source_img,unmatch_img_4],\n",
        "                  [source_img,unmatch_img_5],\n",
        "                  [source_img,unmatch_img_6],\n",
        "                  [source_img,unmatch_img_8]])\n",
        "    labels_train.extend([1,1,0,0,0,0,0,0,0])\n",
        "print('Progress: ',len(pairs_train),'/6264')\n",
        "\n",
        "for i in range(609,696):       #8 - Vivek SP - [609:695]\n",
        "    source_img = x_train[i]\n",
        "    matching_img_1 = x_train[randint(609,695)]\n",
        "    matching_img_2 = x_train[randint(609,695)]\n",
        "    unmatch_img_1 = x_train[randint(0,86)]\n",
        "    unmatch_img_2 = x_train[randint(87,173)]\n",
        "    unmatch_img_3 = x_train[randint(174,260)]\n",
        "    unmatch_img_4 = x_train[randint(261,347)]\n",
        "    unmatch_img_5 = x_train[randint(348,434)]\n",
        "    unmatch_img_6 = x_train[randint(435,521)]\n",
        "    unmatch_img_7 = x_train[randint(522,608)]\n",
        "    pairs_train.extend([[source_img,matching_img_1],\n",
        "                  [source_img,matching_img_2],\n",
        "                  [source_img,unmatch_img_1],\n",
        "                  [source_img,unmatch_img_2],\n",
        "                  [source_img,unmatch_img_3],\n",
        "                  [source_img,unmatch_img_4],\n",
        "                  [source_img,unmatch_img_5],\n",
        "                  [source_img,unmatch_img_6],\n",
        "                  [source_img,unmatch_img_8]])\n",
        "    labels_train.extend([1,1,0,0,0,0,0,0,0])\n",
        "print('Progress: ',len(pairs_train),'/6264')"
      ],
      "execution_count": null,
      "outputs": [
        {
          "output_type": "stream",
          "text": [
            "Progress:  783 /6264\n",
            "Progress:  1566 /6264\n",
            "Progress:  2349 /6264\n",
            "Progress:  3132 /6264\n",
            "Progress:  3915 /6264\n",
            "Progress:  4698 /6264\n",
            "Progress:  5481 /6264\n",
            "Progress:  6264 /6264\n"
          ],
          "name": "stdout"
        }
      ]
    },
    {
      "cell_type": "code",
      "metadata": {
        "id": "S-0ykKGMf1NZ",
        "colab_type": "code",
        "colab": {
          "base_uri": "https://localhost:8080/",
          "height": 151
        },
        "outputId": "60c7e3b5-8092-4293-d87f-e8075b09541d"
      },
      "source": [
        "pairs_test = []\n",
        "labels_test = []\n",
        "\n",
        "# Adding 1 matching & 1 unmatching image-pairs for each image\n",
        "# So (2)*87*8 = 1392 pairs in dataset\n",
        "# Label : 1-Match ; 0-Unmatch\n",
        "\n",
        "for i in range(0,87):            #1 - Reenu - [0:86]\n",
        "    source_img = x_train[i]\n",
        "    matching_img_1 = x_train[randint(0,86)]\n",
        "    unmatch_img_1 = x_train[randint(87,695)]\n",
        "    pairs_test.extend([[source_img,matching_img_1],\n",
        "                  [source_img,unmatch_img_1]])\n",
        "    labels_test.extend([1,0])\n",
        "print('Progress: ',len(pairs_test),'/1392')\n",
        "\n",
        "for i in range(87,174):            #2 - Renie - [87:173]\n",
        "    source_img = x_train[i]\n",
        "    matching_img_1 = x_train[randint(87,173)]\n",
        "    unmatch_img_1 = x_train[randint(174,695)]\n",
        "    pairs_test.extend([[source_img,matching_img_1],\n",
        "                  [source_img,unmatch_img_1]])\n",
        "    labels_test.extend([1,0])\n",
        "print('Progress: ',len(pairs_test),'/1392')\n",
        "\n",
        "for i in range(174,261):            #3 - Sandra F - [174:260]\n",
        "    source_img = x_train[i]\n",
        "    matching_img_1 = x_train[randint(174,260)]\n",
        "    unmatch_img_1 = x_train[randint(261,695)]\n",
        "    pairs_test.extend([[source_img,matching_img_1],\n",
        "                  [source_img,unmatch_img_1]])\n",
        "    labels_test.extend([1,0])\n",
        "print('Progress: ',len(pairs_test),'/1392')\n",
        "\n",
        "for i in range(261,348):            #4 - Shoalia - [261:347]\n",
        "    source_img = x_train[i]\n",
        "    matching_img_1 = x_train[randint(261,347)]\n",
        "    unmatch_img_1 = x_train[randint(348,695)]\n",
        "    pairs_test.extend([[source_img,matching_img_1],\n",
        "                  [source_img,unmatch_img_1]])\n",
        "    labels_test.extend([1,0])\n",
        "print('Progress: ',len(pairs_test),'/1392')\n",
        "\n",
        "for i in range(348,435):            #5 - Shwetha Sandeep - [348:434]\n",
        "    source_img = x_train[i]\n",
        "    matching_img_1 = x_train[randint(348,434)]\n",
        "    unmatch_img_1 = x_train[randint(435,695)]\n",
        "    pairs_test.extend([[source_img,matching_img_1],\n",
        "                  [source_img,unmatch_img_1]])\n",
        "    labels_test.extend([1,0])\n",
        "print('Progress: ',len(pairs_test),'/1392')\n",
        "\n",
        "for i in range(435,522):            #6 - Sweta Satish - [435:521]\n",
        "    source_img = x_train[i]\n",
        "    matching_img_1 = x_train[randint(435,521)]\n",
        "    unmatch_img_1 = x_train[randint(0,434)]\n",
        "    pairs_test.extend([[source_img,matching_img_1],\n",
        "                  [source_img,unmatch_img_1]])\n",
        "    labels_test.extend([1,0])\n",
        "print('Progress: ',len(pairs_test),'/1392')\n",
        "\n",
        "for i in range(522,609):            #7 - Tabita - [522:608]\n",
        "    source_img = x_train[i]\n",
        "    matching_img_1 = x_train[randint(522,608)]\n",
        "    unmatch_img_1 = x_train[randint(0,521)]\n",
        "    pairs_test.extend([[source_img,matching_img_1],\n",
        "                  [source_img,unmatch_img_1]])\n",
        "    labels_test.extend([1,0])\n",
        "print('Progress: ',len(pairs_test),'/1392')\n",
        "\n",
        "for i in range(609,696):            #8 - Vivek SP - [609:695]\n",
        "    source_img = x_train[i]\n",
        "    matching_img_1 = x_train[randint(609,695)]\n",
        "    unmatch_img_1 = x_train[randint(0,608)]\n",
        "    pairs_test.extend([[source_img,matching_img_1],\n",
        "                  [source_img,unmatch_img_1]])\n",
        "    labels_test.extend([1,0])\n",
        "print('Progress: ',len(pairs_test),'/1392')"
      ],
      "execution_count": null,
      "outputs": [
        {
          "output_type": "stream",
          "text": [
            "Progress:  174 /1392\n",
            "Progress:  348 /1392\n",
            "Progress:  522 /1392\n",
            "Progress:  696 /1392\n",
            "Progress:  870 /1392\n",
            "Progress:  1044 /1392\n",
            "Progress:  1218 /1392\n",
            "Progress:  1392 /1392\n"
          ],
          "name": "stdout"
        }
      ]
    },
    {
      "cell_type": "code",
      "metadata": {
        "id": "hU5cLU4LA-g7",
        "colab_type": "code",
        "colab": {
          "base_uri": "https://localhost:8080/",
          "height": 220
        },
        "outputId": "de83af8d-312f-4871-d062-c24ddcd1ac08"
      },
      "source": [
        "# Dataset visualizer\n",
        "#num = int(input('Enter value between 0 & 6263: '))\n",
        "num = 50\n",
        "f = plt.figure()\n",
        "f.add_subplot(1,2, 1)\n",
        "plt.imshow(pairs_train[num][0])\n",
        "f.add_subplot(1,2, 2)\n",
        "plt.imshow(pairs_train[num][1])\n",
        "plt.show(block=True)\n",
        "print(labels_train[num])"
      ],
      "execution_count": null,
      "outputs": [
        {
          "output_type": "display_data",
          "data": {
            "image/png": "[encoded data removed]",
            "text/plain": [
              "<Figure size 432x288 with 2 Axes>"
            ]
          },
          "metadata": {
            "tags": []
          }
        },
        {
          "output_type": "stream",
          "text": [
            "0\n"
          ],
          "name": "stdout"
        }
      ]
    },
    {
      "cell_type": "code",
      "metadata": {
        "id": "rjLZuLLxN_PR",
        "colab_type": "code",
        "colab": {
          "base_uri": "https://localhost:8080/",
          "height": 118
        },
        "outputId": "409d5a9c-11fb-4909-d452-2c63350f3512"
      },
      "source": [
        "#Convert labels to Numpy array\n",
        "print('The label is in list format: ',type(labels_train),labels_train[1:20])\n",
        "labels_train = np.asarray(labels_train)\n",
        "print('The labels are now in :', type(labels_train),labels_train[1:20])\n",
        "\n",
        "print('The label is in list format: ',type(labels_test),labels_test[1:20])\n",
        "labels_test = np.asarray(labels_test)\n",
        "print('The labels are now in :', type(labels_test),labels_test[1:20])\n",
        "\n",
        "#Convert pairs to numpy array\n",
        "pairs_train = np.asarray(pairs_train)\n",
        "print(type(pairs_train))\n",
        "pairs_test = np.asarray(pairs_test)\n",
        "print(type(pairs_test))"
      ],
      "execution_count": null,
      "outputs": [
        {
          "output_type": "stream",
          "text": [
            "The label is in list format:  <class 'list'> [1, 0, 0, 0, 0, 0, 0, 0, 1, 1, 0, 0, 0, 0, 0, 0, 0, 1, 1]\n",
            "The labels are now in : <class 'numpy.ndarray'> [1 0 0 0 0 0 0 0 1 1 0 0 0 0 0 0 0 1 1]\n",
            "The label is in list format:  <class 'list'> [0, 1, 0, 1, 0, 1, 0, 1, 0, 1, 0, 1, 0, 1, 0, 1, 0, 1, 0]\n",
            "The labels are now in : <class 'numpy.ndarray'> [0 1 0 1 0 1 0 1 0 1 0 1 0 1 0 1 0 1 0]\n",
            "<class 'numpy.ndarray'>\n",
            "<class 'numpy.ndarray'>\n"
          ],
          "name": "stdout"
        }
      ]
    },
    {
      "cell_type": "code",
      "metadata": {
        "id": "b5BH5X8vDacF",
        "colab_type": "code",
        "colab": {}
      },
      "source": [
        "from keras import backend as K\n",
        "\n",
        "def euclidean_distance(vects):\n",
        "    x, y = vects\n",
        "    sum_square = K.sum(K.square(x - y), axis=1, keepdims=True)\n",
        "    return K.sqrt(K.maximum(sum_square, K.epsilon()))\n",
        "\n",
        "\n",
        "input = Input((64,64))\n",
        "x = Flatten()(input)\n",
        "x = Dense(128, activation='relu')(x) #128\n",
        "dense = Model(input, x)\n",
        "\n",
        "input1 = Input((64,64))\n",
        "input2 = Input((64,64))\n",
        "\n",
        "dense1 = dense(input1)\n",
        "dense2 = dense(input2)\n",
        "\n",
        "merge_layer = Lambda(euclidean_distance)([dense1,dense2])\n",
        "dense_layer = Dense(1, activation=\"sigmoid\")(merge_layer)\n",
        "model = Model(inputs=[input1, input2], outputs=dense_layer)"
      ],
      "execution_count": null,
      "outputs": []
    },
    {
      "cell_type": "code",
      "metadata": {
        "id": "FJOeZH25swuV",
        "colab_type": "code",
        "colab": {
          "base_uri": "https://localhost:8080/",
          "height": 353
        },
        "outputId": "c3f2af60-ed8f-4a92-896f-907dc3635fed"
      },
      "source": [
        "model.compile(loss = \"binary_crossentropy\", optimizer=\"adam\", metrics=[\"accuracy\"])\n",
        "model.summary()"
      ],
      "execution_count": null,
      "outputs": [
        {
          "output_type": "stream",
          "text": [
            "Model: \"model_10\"\n",
            "__________________________________________________________________________________________________\n",
            "Layer (type)                    Output Shape         Param #     Connected to                     \n",
            "==================================================================================================\n",
            "input_14 (InputLayer)           (None, 64, 64)       0                                            \n",
            "__________________________________________________________________________________________________\n",
            "input_15 (InputLayer)           (None, 64, 64)       0                                            \n",
            "__________________________________________________________________________________________________\n",
            "model_9 (Model)                 (None, 256)          1048832     input_14[0][0]                   \n",
            "                                                                 input_15[0][0]                   \n",
            "__________________________________________________________________________________________________\n",
            "lambda_5 (Lambda)               (None, 1)            0           model_9[1][0]                    \n",
            "                                                                 model_9[2][0]                    \n",
            "__________________________________________________________________________________________________\n",
            "dense_10 (Dense)                (None, 1)            2           lambda_5[0][0]                   \n",
            "==================================================================================================\n",
            "Total params: 1,048,834\n",
            "Trainable params: 1,048,834\n",
            "Non-trainable params: 0\n",
            "__________________________________________________________________________________________________\n"
          ],
          "name": "stdout"
        }
      ]
    },
    {
      "cell_type": "code",
      "metadata": {
        "id": "LemAwZkVtDMC",
        "colab_type": "code",
        "colab": {}
      },
      "source": [
        "# Training\n",
        "wandb.init(project=\"siamese\")\n",
        "model.fit([pairs_train[:,0], pairs_train[:,1]], labels_train[:],\n",
        "          batch_size=16,\n",
        "          validation_data = ([pairs_test[:,0], pairs_test[:,1]],labels_test[:]),\n",
        "          epochs= 20,\n",
        "          callbacks=[WandbCallback()])"
      ],
      "execution_count": null,
      "outputs": []
    },
    {
      "cell_type": "code",
      "metadata": {
        "id": "uXVA6ONGbIWE",
        "colab_type": "code",
        "colab": {}
      },
      "source": [
        "os.chdir(\"/content/drive/My Drive/Colab Notebooks/SNN data/\")\n",
        "model.save('SNN_model.h5py')"
      ],
      "execution_count": null,
      "outputs": []
    },
    {
      "cell_type": "code",
      "metadata": {
        "id": "0vgKrkw_bil6",
        "colab_type": "code",
        "colab": {}
      },
      "source": [
        "from keras.models import load_model\n",
        "model = load_model('/content/drive/My Drive/Colab Notebooks/SNN data/SNN_model.h5py')"
      ],
      "execution_count": null,
      "outputs": []
    },
    {
      "cell_type": "code",
      "metadata": {
        "id": "un83jpLZSCbh",
        "colab_type": "code",
        "colab": {}
      },
      "source": [
        "# Predicting output\n",
        "size = 64\n",
        "\n",
        "#Image1\n",
        "file = '/content/drive/My Drive/Colab Notebooks/Project-Sign samples/Input images/5.jpg'\n",
        "test_im1 = cv2.imread(file,0)  # 0 for greyscale\n",
        "plot1 = test_im1\n",
        "test_im1 = cv2.resize(test_im1, dsize=(size, size), interpolation=cv2.INTER_CUBIC)\n",
        "\n",
        "#Image2\n",
        "file = '/content/drive/My Drive/Colab Notebooks/Project-Sign samples/Input images/9.jpg'\n",
        "test_im2 = cv2.imread(file,0)  # 0 for greyscale\n",
        "plot2 = test_im2\n",
        "test_im2 = cv2.resize(test_im2, dsize=(size, size), interpolation=cv2.INTER_CUBIC)\n",
        "\n",
        "#Plotting\n",
        "f = plt.figure()\n",
        "f.add_subplot(1,2, 1)\n",
        "plt.imshow(plot1)\n",
        "f.add_subplot(1,2, 2)\n",
        "plt.imshow(plot2)\n",
        "plt.show(block=True)\n",
        "\n",
        "test_im1 = np.true_divide(test_im1,255)\n",
        "test_im1 = np.asarray(test_im1)\n",
        "test_im2 = np.true_divide(test_im2,255)\n",
        "test_im2 = np.asarray(test_im2)\n",
        "\n",
        "result = model.predict([[test_im1],[test_im2]],steps=None)\n",
        "print(result)"
      ],
      "execution_count": null,
      "outputs": []
    },
    {
      "cell_type": "code",
      "metadata": {
        "id": "J1WXSovYUCGp",
        "colab_type": "code",
        "colab": {}
      },
      "source": [
        "#To crop white spaces\n",
        "file = '/content/drive/My Drive/Colab Notebooks/Project-Sign samples/Input images/6.jpg'\n",
        "im = cv2.imread(file,0)\n",
        "im = cv2.resize(im, dsize=(64, 64), interpolation=cv2.INTER_CUBIC)\n",
        "im = np.asarray(im)\n",
        "# Mask of non-black pixels (assuming image has a single channel).\n",
        "mask = im < 255\n",
        "\n",
        "# Coordinates of non-black pixels.\n",
        "coords = np.argwhere(mask)\n",
        "\n",
        "# Bounding box of non-black pixels.\n",
        "x0, y0 = coords.min(axis=0)\n",
        "x1, y1 = coords.max(axis=0) + 1   # slices are exclusive at the top\n",
        "\n",
        "# Get the contents of the bounding box.\n",
        "cropped = im[x0:x1,y0:y1]\n",
        "\n",
        "f = plt.figure()\n",
        "f.add_subplot(1,2, 1)\n",
        "plt.imshow(im)\n",
        "f.add_subplot(1,2, 2)\n",
        "plt.imshow(cropped)\n",
        "plt.show(block=True)"
      ],
      "execution_count": null,
      "outputs": []
    }
  ]
}